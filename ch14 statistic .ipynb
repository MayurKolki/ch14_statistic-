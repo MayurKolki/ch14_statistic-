{
 "cells": [
  {
   "cell_type": "markdown",
   "metadata": {},
   "source": [
    "# ch14 statistic "
   ]
  },
  {
   "cell_type": "code",
   "execution_count": 1,
   "metadata": {},
   "outputs": [],
   "source": [
    "import numpy as np\n",
    "import scipy.stats as spstats"
   ]
  },
  {
   "cell_type": "code",
   "execution_count": 2,
   "metadata": {},
   "outputs": [
    {
     "data": {
      "text/plain": [
       "array([578, 117, 249, 303, 610, 288, 271, 491, 498, 209, 483, 622, 483,\n",
       "       381, 416, 457, 336, 272, 355, 658, 228, 153, 229, 596, 115, 401,\n",
       "       686, 396, 134, 171, 434, 224, 272, 541, 688, 510, 277, 398, 574,\n",
       "       690, 476, 147, 347, 230, 676, 441, 517, 250, 540, 250, 418, 210,\n",
       "       202, 379, 439, 150, 669, 403, 125, 503, 289, 446, 507, 380, 440,\n",
       "       268, 120, 240, 376, 653, 557, 142, 667, 256, 332, 439, 220, 199,\n",
       "       247, 442, 661, 621, 687, 685, 544, 338, 614, 319, 658, 195])"
      ]
     },
     "execution_count": 2,
     "metadata": {},
     "output_type": "execute_result"
    }
   ],
   "source": [
    "\n",
    "data = np.random.randint(100,700,90)\n",
    "data"
   ]
  },
  {
   "cell_type": "raw",
   "metadata": {},
   "source": [
    "#central tendancy"
   ]
  },
  {
   "cell_type": "code",
   "execution_count": 3,
   "metadata": {},
   "outputs": [
    {
     "data": {
      "text/plain": [
       "396.75555555555553"
      ]
     },
     "execution_count": 3,
     "metadata": {},
     "output_type": "execute_result"
    }
   ],
   "source": [
    "#1)mean\n",
    "np.mean(data)"
   ]
  },
  {
   "cell_type": "code",
   "execution_count": 4,
   "metadata": {},
   "outputs": [
    {
     "data": {
      "text/plain": [
       "397.0"
      ]
     },
     "execution_count": 4,
     "metadata": {},
     "output_type": "execute_result"
    }
   ],
   "source": [
    "#2)median \n",
    "np.median(data)"
   ]
  },
  {
   "cell_type": "code",
   "execution_count": null,
   "metadata": {},
   "outputs": [],
   "source": [
    "#3) weighted mean \n",
    "#create a matrix for 5 employees with scores (1-100) each column represent the following \n",
    "#c1 : technical skills\n",
    "#c2: interpersonal skill\n",
    "#c3: managerical skill\n",
    "#c4: communication skill\n",
    "#c5: decision malking skills\n",
    "\n",
    "#calculate , the wighted average of each employee , given the foll weights of each skill\n",
    "#c1: -10%\n",
    "#c2: -15%\n",
    "#c3: -20%\n",
    "#c4: -40% \n",
    "#c5: -15%"
   ]
  },
  {
   "cell_type": "code",
   "execution_count": 11,
   "metadata": {},
   "outputs": [
    {
     "data": {
      "text/plain": [
       "array([53, 11, 39, 76, 30])"
      ]
     },
     "execution_count": 11,
     "metadata": {},
     "output_type": "execute_result"
    }
   ],
   "source": [
    "c1= np.random.randint(1,101,5)\n",
    "c1"
   ]
  },
  {
   "cell_type": "code",
   "execution_count": 12,
   "metadata": {},
   "outputs": [
    {
     "data": {
      "text/plain": [
       "array([61, 70, 96, 41, 11])"
      ]
     },
     "execution_count": 12,
     "metadata": {},
     "output_type": "execute_result"
    }
   ],
   "source": [
    "c2= np.random.randint(1,101,5)\n",
    "c2"
   ]
  },
  {
   "cell_type": "code",
   "execution_count": 13,
   "metadata": {},
   "outputs": [
    {
     "data": {
      "text/plain": [
       "array([82,  5, 63, 50, 25])"
      ]
     },
     "execution_count": 13,
     "metadata": {},
     "output_type": "execute_result"
    }
   ],
   "source": [
    "c3= np.random.randint(1,101,5)\n",
    "c3"
   ]
  },
  {
   "cell_type": "code",
   "execution_count": 14,
   "metadata": {},
   "outputs": [
    {
     "data": {
      "text/plain": [
       "array([14, 49, 54,  2, 70])"
      ]
     },
     "execution_count": 14,
     "metadata": {},
     "output_type": "execute_result"
    }
   ],
   "source": [
    "c4= np.random.randint(1,101,5)\n",
    "c4"
   ]
  },
  {
   "cell_type": "code",
   "execution_count": 15,
   "metadata": {},
   "outputs": [
    {
     "data": {
      "text/plain": [
       "array([ 1, 42,  9, 13, 43])"
      ]
     },
     "execution_count": 15,
     "metadata": {},
     "output_type": "execute_result"
    }
   ],
   "source": [
    "c5= np.random.randint(1,101,5)\n",
    "c5"
   ]
  },
  {
   "cell_type": "code",
   "execution_count": 16,
   "metadata": {},
   "outputs": [
    {
     "data": {
      "text/plain": [
       "array([[88, 54, 85,  9, 79],\n",
       "       [ 2, 91, 46, 49, 84],\n",
       "       [15,  4, 79, 60, 27],\n",
       "       [92, 43, 61, 98, 15],\n",
       "       [47, 85, 78, 34, 90]])"
      ]
     },
     "execution_count": 16,
     "metadata": {},
     "output_type": "execute_result"
    }
   ],
   "source": [
    "#done by sir\n",
    "#array broadcast method\n",
    "scores =  np.random.randint(1,100,25).reshape(-1,5)\n",
    "scores"
   ]
  },
  {
   "cell_type": "code",
   "execution_count": 17,
   "metadata": {},
   "outputs": [
    {
     "data": {
      "text/plain": [
       "array([0.1 , 0.15, 0.2 , 0.4 , 0.15])"
      ]
     },
     "execution_count": 17,
     "metadata": {},
     "output_type": "execute_result"
    }
   ],
   "source": [
    "wt = np.array([0.1,0.15,0.2,0.4,0.15])\n",
    "wt"
   ]
  },
  {
   "cell_type": "code",
   "execution_count": 18,
   "metadata": {},
   "outputs": [
    {
     "data": {
      "text/plain": [
       "array([49.35, 55.25, 45.95, 69.3 , 60.15])"
      ]
     },
     "execution_count": 18,
     "metadata": {},
     "output_type": "execute_result"
    }
   ],
   "source": [
    "np.sum(scores*wt,1)"
   ]
  },
  {
   "cell_type": "code",
   "execution_count": 31,
   "metadata": {},
   "outputs": [
    {
     "data": {
      "text/plain": [
       "array([181, 118, 105, 143, 113], dtype=int64)"
      ]
     },
     "execution_count": 31,
     "metadata": {},
     "output_type": "execute_result"
    }
   ],
   "source": [
    "#4)geometric mean\n",
    "ret = np.random.randint(100,200,5,dtype = np.int64)\n",
    "ret"
   ]
  },
  {
   "cell_type": "code",
   "execution_count": 35,
   "metadata": {},
   "outputs": [
    {
     "data": {
      "text/plain": [
       "36238011810"
      ]
     },
     "execution_count": 35,
     "metadata": {},
     "output_type": "execute_result"
    }
   ],
   "source": [
    "181* 118* 105* 143* 113"
   ]
  },
  {
   "cell_type": "code",
   "execution_count": 32,
   "metadata": {},
   "outputs": [],
   "source": [
    "ans =1 \n"
   ]
  },
  {
   "cell_type": "code",
   "execution_count": 33,
   "metadata": {},
   "outputs": [],
   "source": [
    "for e in ret:\n",
    "    ans =ans*e"
   ]
  },
  {
   "cell_type": "code",
   "execution_count": 34,
   "metadata": {},
   "outputs": [
    {
     "data": {
      "text/plain": [
       "36238011810"
      ]
     },
     "execution_count": 34,
     "metadata": {},
     "output_type": "execute_result"
    }
   ],
   "source": [
    "ans"
   ]
  },
  {
   "cell_type": "code",
   "execution_count": 37,
   "metadata": {},
   "outputs": [
    {
     "data": {
      "text/plain": [
       "(129, False)"
      ]
     },
     "execution_count": 37,
     "metadata": {},
     "output_type": "execute_result"
    }
   ],
   "source": [
    "# to calculate the nthroot\n",
    "import sympy \n",
    "nth = sympy.integer_nthroot(int(ans),len(ret))   #false - indicate this value or not\n",
    "nth"
   ]
  },
  {
   "cell_type": "code",
   "execution_count": 39,
   "metadata": {},
   "outputs": [
    {
     "name": "stdout",
     "output_type": "stream",
     "text": [
      "5 nth rooth of 36238011810 is 129\n"
     ]
    }
   ],
   "source": [
    "print('{} nth rooth of {} is {}'.format(len(ret),ans,nth[0]))"
   ]
  },
  {
   "cell_type": "code",
   "execution_count": 42,
   "metadata": {},
   "outputs": [
    {
     "data": {
      "text/plain": [
       "array([1, 4, 4, 4, 3, 2, 3, 2, 1, 1, 4, 2, 3, 3, 4, 1, 1, 2, 2, 3, 4, 2,\n",
       "       3, 3, 4, 2, 3, 2, 4, 1, 4, 4, 1, 1, 3, 1, 4, 2, 3, 1, 3, 1, 3, 2,\n",
       "       2, 4, 4, 1, 2, 4])"
      ]
     },
     "execution_count": 42,
     "metadata": {},
     "output_type": "execute_result"
    }
   ],
   "source": [
    "#5)mode\n",
    "data = np.random.randint(1,5,50)\n",
    "data"
   ]
  },
  {
   "cell_type": "code",
   "execution_count": 41,
   "metadata": {
    "collapsed": true
   },
   "outputs": [
    {
     "data": {
      "text/plain": [
       "['PearsonRConstantInputWarning',\n",
       " 'PearsonRNearConstantInputWarning',\n",
       " '__all__',\n",
       " '__builtins__',\n",
       " '__cached__',\n",
       " '__doc__',\n",
       " '__file__',\n",
       " '__loader__',\n",
       " '__name__',\n",
       " '__package__',\n",
       " '__path__',\n",
       " '__spec__',\n",
       " '_binned_statistic',\n",
       " '_constants',\n",
       " '_continuous_distns',\n",
       " '_discrete_distns',\n",
       " '_distn_infrastructure',\n",
       " '_distr_params',\n",
       " '_hypotests',\n",
       " '_multivariate',\n",
       " '_rvs_sampling',\n",
       " '_stats',\n",
       " '_stats_mstats_common',\n",
       " '_tukeylambda_stats',\n",
       " 'absolute_import',\n",
       " 'alpha',\n",
       " 'anderson',\n",
       " 'anderson_ksamp',\n",
       " 'anglit',\n",
       " 'ansari',\n",
       " 'arcsine',\n",
       " 'argus',\n",
       " 'bartlett',\n",
       " 'bayes_mvs',\n",
       " 'bernoulli',\n",
       " 'beta',\n",
       " 'betabinom',\n",
       " 'betaprime',\n",
       " 'binned_statistic',\n",
       " 'binned_statistic_2d',\n",
       " 'binned_statistic_dd',\n",
       " 'binom',\n",
       " 'binom_test',\n",
       " 'boltzmann',\n",
       " 'boxcox',\n",
       " 'boxcox_llf',\n",
       " 'boxcox_normmax',\n",
       " 'boxcox_normplot',\n",
       " 'bradford',\n",
       " 'brunnermunzel',\n",
       " 'burr',\n",
       " 'burr12',\n",
       " 'cauchy',\n",
       " 'chi',\n",
       " 'chi2',\n",
       " 'chi2_contingency',\n",
       " 'chisquare',\n",
       " 'circmean',\n",
       " 'circstd',\n",
       " 'circvar',\n",
       " 'combine_pvalues',\n",
       " 'contingency',\n",
       " 'cosine',\n",
       " 'crystalball',\n",
       " 'cumfreq',\n",
       " 'describe',\n",
       " 'dgamma',\n",
       " 'dirichlet',\n",
       " 'distributions',\n",
       " 'division',\n",
       " 'dlaplace',\n",
       " 'dweibull',\n",
       " 'energy_distance',\n",
       " 'entropy',\n",
       " 'epps_singleton_2samp',\n",
       " 'erlang',\n",
       " 'expon',\n",
       " 'exponnorm',\n",
       " 'exponpow',\n",
       " 'exponweib',\n",
       " 'f',\n",
       " 'f_oneway',\n",
       " 'fatiguelife',\n",
       " 'find_repeats',\n",
       " 'fisher_exact',\n",
       " 'fisk',\n",
       " 'fligner',\n",
       " 'foldcauchy',\n",
       " 'foldnorm',\n",
       " 'frechet_l',\n",
       " 'frechet_r',\n",
       " 'friedmanchisquare',\n",
       " 'gamma',\n",
       " 'gausshyper',\n",
       " 'gaussian_kde',\n",
       " 'genexpon',\n",
       " 'genextreme',\n",
       " 'gengamma',\n",
       " 'genhalflogistic',\n",
       " 'geninvgauss',\n",
       " 'genlogistic',\n",
       " 'gennorm',\n",
       " 'genpareto',\n",
       " 'geom',\n",
       " 'gilbrat',\n",
       " 'gmean',\n",
       " 'gompertz',\n",
       " 'gstd',\n",
       " 'gumbel_l',\n",
       " 'gumbel_r',\n",
       " 'halfcauchy',\n",
       " 'halfgennorm',\n",
       " 'halflogistic',\n",
       " 'halfnorm',\n",
       " 'hmean',\n",
       " 'hypergeom',\n",
       " 'hypsecant',\n",
       " 'invgamma',\n",
       " 'invgauss',\n",
       " 'invweibull',\n",
       " 'invwishart',\n",
       " 'iqr',\n",
       " 'itemfreq',\n",
       " 'jarque_bera',\n",
       " 'johnsonsb',\n",
       " 'johnsonsu',\n",
       " 'kappa3',\n",
       " 'kappa4',\n",
       " 'kde',\n",
       " 'kendalltau',\n",
       " 'kruskal',\n",
       " 'ks_2samp',\n",
       " 'ksone',\n",
       " 'kstat',\n",
       " 'kstatvar',\n",
       " 'kstest',\n",
       " 'kstwobign',\n",
       " 'kurtosis',\n",
       " 'kurtosistest',\n",
       " 'laplace',\n",
       " 'levene',\n",
       " 'levy',\n",
       " 'levy_l',\n",
       " 'levy_stable',\n",
       " 'linregress',\n",
       " 'loggamma',\n",
       " 'logistic',\n",
       " 'loglaplace',\n",
       " 'lognorm',\n",
       " 'logser',\n",
       " 'loguniform',\n",
       " 'lomax',\n",
       " 'mannwhitneyu',\n",
       " 'matrix_normal',\n",
       " 'maxwell',\n",
       " 'median_absolute_deviation',\n",
       " 'median_test',\n",
       " 'mielke',\n",
       " 'mode',\n",
       " 'moment',\n",
       " 'mood',\n",
       " 'morestats',\n",
       " 'moyal',\n",
       " 'mstats',\n",
       " 'mstats_basic',\n",
       " 'mstats_extras',\n",
       " 'multinomial',\n",
       " 'multiscale_graphcorr',\n",
       " 'multivariate_normal',\n",
       " 'mvn',\n",
       " 'mvsdist',\n",
       " 'nakagami',\n",
       " 'nbinom',\n",
       " 'ncf',\n",
       " 'nct',\n",
       " 'ncx2',\n",
       " 'norm',\n",
       " 'normaltest',\n",
       " 'norminvgauss',\n",
       " 'obrientransform',\n",
       " 'ortho_group',\n",
       " 'pareto',\n",
       " 'pearson3',\n",
       " 'pearsonr',\n",
       " 'percentileofscore',\n",
       " 'planck',\n",
       " 'pointbiserialr',\n",
       " 'poisson',\n",
       " 'power_divergence',\n",
       " 'powerlaw',\n",
       " 'powerlognorm',\n",
       " 'powernorm',\n",
       " 'ppcc_max',\n",
       " 'ppcc_plot',\n",
       " 'print_function',\n",
       " 'probplot',\n",
       " 'randint',\n",
       " 'random_correlation',\n",
       " 'rankdata',\n",
       " 'ranksums',\n",
       " 'rayleigh',\n",
       " 'rdist',\n",
       " 'recipinvgauss',\n",
       " 'reciprocal',\n",
       " 'relfreq',\n",
       " 'rice',\n",
       " 'rv_continuous',\n",
       " 'rv_discrete',\n",
       " 'rv_histogram',\n",
       " 'rvs_ratio_uniforms',\n",
       " 'scoreatpercentile',\n",
       " 'sem',\n",
       " 'semicircular',\n",
       " 'shapiro',\n",
       " 'siegelslopes',\n",
       " 'sigmaclip',\n",
       " 'skellam',\n",
       " 'skew',\n",
       " 'skewnorm',\n",
       " 'skewtest',\n",
       " 'spearmanr',\n",
       " 'special_ortho_group',\n",
       " 'statlib',\n",
       " 'stats',\n",
       " 't',\n",
       " 'test',\n",
       " 'theilslopes',\n",
       " 'tiecorrect',\n",
       " 'tmax',\n",
       " 'tmean',\n",
       " 'tmin',\n",
       " 'trapz',\n",
       " 'triang',\n",
       " 'trim1',\n",
       " 'trim_mean',\n",
       " 'trimboth',\n",
       " 'truncexpon',\n",
       " 'truncnorm',\n",
       " 'tsem',\n",
       " 'tstd',\n",
       " 'ttest_1samp',\n",
       " 'ttest_ind',\n",
       " 'ttest_ind_from_stats',\n",
       " 'ttest_rel',\n",
       " 'tukeylambda',\n",
       " 'tvar',\n",
       " 'uniform',\n",
       " 'unitary_group',\n",
       " 'variation',\n",
       " 'vonmises',\n",
       " 'vonmises_line',\n",
       " 'wald',\n",
       " 'wasserstein_distance',\n",
       " 'weibull_max',\n",
       " 'weibull_min',\n",
       " 'weightedtau',\n",
       " 'wilcoxon',\n",
       " 'wishart',\n",
       " 'wrapcauchy',\n",
       " 'yeojohnson',\n",
       " 'yeojohnson_llf',\n",
       " 'yeojohnson_normmax',\n",
       " 'yeojohnson_normplot',\n",
       " 'yulesimon',\n",
       " 'zipf',\n",
       " 'zmap',\n",
       " 'zscore']"
      ]
     },
     "execution_count": 41,
     "metadata": {},
     "output_type": "execute_result"
    }
   ],
   "source": [
    "dir(spstats)"
   ]
  },
  {
   "cell_type": "code",
   "execution_count": 43,
   "metadata": {},
   "outputs": [
    {
     "data": {
      "text/plain": [
       "ModeResult(mode=array([4]), count=array([14]))"
      ]
     },
     "execution_count": 43,
     "metadata": {},
     "output_type": "execute_result"
    }
   ],
   "source": [
    "spstats.mode(data)"
   ]
  },
  {
   "cell_type": "code",
   "execution_count": 47,
   "metadata": {},
   "outputs": [
    {
     "data": {
      "text/plain": [
       "array([1, 2, 3, 4])"
      ]
     },
     "execution_count": 47,
     "metadata": {},
     "output_type": "execute_result"
    }
   ],
   "source": [
    "unq = np.unique(data)\n",
    "unq"
   ]
  },
  {
   "cell_type": "code",
   "execution_count": 48,
   "metadata": {},
   "outputs": [
    {
     "name": "stdout",
     "output_type": "stream",
     "text": [
      "Number = 1, count = 12\n",
      "Number = 2, count = 12\n",
      "Number = 3, count = 12\n",
      "Number = 4, count = 14\n"
     ]
    }
   ],
   "source": [
    "for e in unq:\n",
    "    ct = list(data).count(e)\n",
    "    print('Number = {}, count = {}'.format(e,ct))"
   ]
  },
  {
   "cell_type": "code",
   "execution_count": 50,
   "metadata": {},
   "outputs": [
    {
     "data": {
      "text/plain": [
       "array([98.7, 12. , 29. , 95.5, 32.6, 88.2, 87.4, 91.8, 33.8, 65.4, 76.9,\n",
       "       79. , 92.8, 67.8, 34.9, 47.9, 88.5, 83.2, 36.1, 46.1, 10.3, 42.5,\n",
       "       96.2, 24.7, 60.2, 52.7, 17.9, 43.5, 61. , 20.1, 68.6, 32. , 41.7,\n",
       "       16.7, 31.7, 27. , 49.1, 21.7, 45.2, 42.1, 77.4, 49. , 75.9, 78.2,\n",
       "       38. , 73.4, 77.2, 86.3, 83.1, 47.6])"
      ]
     },
     "execution_count": 50,
     "metadata": {},
     "output_type": "execute_result"
    }
   ],
   "source": [
    "#2) measure of dispersion\n",
    "data = np.round(np.random.uniform(10,100,50),1)\n",
    "data"
   ]
  },
  {
   "cell_type": "code",
   "execution_count": 51,
   "metadata": {},
   "outputs": [
    {
     "data": {
      "text/plain": [
       "88.4"
      ]
     },
     "execution_count": 51,
     "metadata": {},
     "output_type": "execute_result"
    }
   ],
   "source": [
    "#1)range(max-min)\n",
    "np.max(data)-np.min(data)"
   ]
  },
  {
   "cell_type": "code",
   "execution_count": 52,
   "metadata": {},
   "outputs": [
    {
     "data": {
      "text/plain": [
       "34.074999999999996"
      ]
     },
     "execution_count": 52,
     "metadata": {},
     "output_type": "execute_result"
    }
   ],
   "source": [
    "#2)quartiles\n",
    "#percentile(<data>,<%>)\n",
    "np.percentile(data,25)"
   ]
  },
  {
   "cell_type": "code",
   "execution_count": 54,
   "metadata": {},
   "outputs": [
    {
     "data": {
      "text/plain": [
       "21.540000000000003"
      ]
     },
     "execution_count": 54,
     "metadata": {},
     "output_type": "execute_result"
    }
   ],
   "source": [
    "np.percentile(data,10)"
   ]
  },
  {
   "cell_type": "code",
   "execution_count": 55,
   "metadata": {},
   "outputs": [
    {
     "data": {
      "text/plain": [
       "array([21.54, 31.94, 37.43, 44.52, 49.05, 66.36, 76.99, 83.12, 88.83])"
      ]
     },
     "execution_count": 55,
     "metadata": {},
     "output_type": "execute_result"
    }
   ],
   "source": [
    "#write a python script to display all the declies\n",
    "dec = np.percentile(data,np.arange(10,91,10))\n",
    "dec"
   ]
  },
  {
   "cell_type": "code",
   "execution_count": 56,
   "metadata": {},
   "outputs": [
    {
     "data": {
      "text/plain": [
       "663.8744160000001"
      ]
     },
     "execution_count": 56,
     "metadata": {},
     "output_type": "execute_result"
    }
   ],
   "source": [
    "#variance and standard deviation\n",
    "# formula of variance =>   σ^2 = (∑(x - μ)2) / N\n",
    "np.var(data)"
   ]
  },
  {
   "cell_type": "code",
   "execution_count": 57,
   "metadata": {},
   "outputs": [
    {
     "data": {
      "text/plain": [
       "25.76576053602921"
      ]
     },
     "execution_count": 57,
     "metadata": {},
     "output_type": "execute_result"
    }
   ],
   "source": [
    "np.std(data)"
   ]
  },
  {
   "cell_type": "code",
   "execution_count": null,
   "metadata": {},
   "outputs": [],
   "source": [
    "#3) measure of association\n",
    "#1. Covariance (it show the direction)   ->to check dependance and in dependence\n",
    "#2. Correlation (it shows the degree)    -> strength of the relation \n",
    "                                        # -ve , +ve , zero range(0,1)\n",
    "#3. Coefficient of Variation\n",
    "#4. Rank Correlation"
   ]
  },
  {
   "cell_type": "code",
   "execution_count": 58,
   "metadata": {},
   "outputs": [
    {
     "data": {
      "text/plain": [
       "array([55, 69, 97, 58, 83, 98])"
      ]
     },
     "execution_count": 58,
     "metadata": {},
     "output_type": "execute_result"
    }
   ],
   "source": [
    "#1) covariance\n",
    "x= np.random.randint(50,100,6)\n",
    "x"
   ]
  },
  {
   "cell_type": "code",
   "execution_count": 59,
   "metadata": {},
   "outputs": [
    {
     "data": {
      "text/plain": [
       "array([4.63194493, 1.59921596, 2.98081343, 4.62658153, 3.46694064,\n",
       "       2.59430378])"
      ]
     },
     "execution_count": 59,
     "metadata": {},
     "output_type": "execute_result"
    }
   ],
   "source": [
    "y= np.random.uniform(1,5,6)\n",
    "y"
   ]
  },
  {
   "cell_type": "code",
   "execution_count": 61,
   "metadata": {},
   "outputs": [
    {
     "data": {
      "text/plain": [
       "array([[357.06666667, -12.21400131],\n",
       "       [-12.21400131,   1.41053171]])"
      ]
     },
     "execution_count": 61,
     "metadata": {},
     "output_type": "execute_result"
    }
   ],
   "source": [
    "np.cov(x,y)            #PCA - it comes in PCA also "
   ]
  },
  {
   "cell_type": "code",
   "execution_count": 62,
   "metadata": {},
   "outputs": [
    {
     "data": {
      "text/plain": [
       "-12.214001310029857"
      ]
     },
     "execution_count": 62,
     "metadata": {},
     "output_type": "execute_result"
    }
   ],
   "source": [
    "covar =np.cov(x,y)[0,1]\n",
    "covar"
   ]
  },
  {
   "cell_type": "code",
   "execution_count": 63,
   "metadata": {},
   "outputs": [
    {
     "data": {
      "text/plain": [
       "array([[ 1.        , -0.54424178],\n",
       "       [-0.54424178,  1.        ]])"
      ]
     },
     "execution_count": 63,
     "metadata": {},
     "output_type": "execute_result"
    }
   ],
   "source": [
    "#2) correlation \n",
    "np.corrcoef(x,y)"
   ]
  },
  {
   "cell_type": "code",
   "execution_count": 64,
   "metadata": {},
   "outputs": [
    {
     "data": {
      "text/plain": [
       "-0.5442417822273373"
      ]
     },
     "execution_count": 64,
     "metadata": {},
     "output_type": "execute_result"
    }
   ],
   "source": [
    "corr = np.corrcoef(x,y)[0,1]\n",
    "corr"
   ]
  },
  {
   "cell_type": "code",
   "execution_count": 65,
   "metadata": {},
   "outputs": [
    {
     "data": {
      "text/plain": [
       "0.9500150944608786"
      ]
     },
     "execution_count": 65,
     "metadata": {},
     "output_type": "execute_result"
    }
   ],
   "source": [
    "#hypothesis testing\n",
    "#given Z,find area\n",
    "#cummulativve density function\n",
    "spstats.norm.cdf(1.645)"
   ]
  },
  {
   "cell_type": "code",
   "execution_count": 66,
   "metadata": {},
   "outputs": [
    {
     "data": {
      "text/plain": [
       "0.9750021048517795"
      ]
     },
     "execution_count": 66,
     "metadata": {},
     "output_type": "execute_result"
    }
   ],
   "source": [
    "spstats.norm.cdf(1.96)"
   ]
  },
  {
   "cell_type": "code",
   "execution_count": 67,
   "metadata": {},
   "outputs": [
    {
     "data": {
      "text/plain": [
       "1.6448536269514722"
      ]
     },
     "execution_count": 67,
     "metadata": {},
     "output_type": "execute_result"
    }
   ],
   "source": [
    "#given area , find z (#z/t-critical values)\n",
    "#PDF -> percentage point function\n",
    "spstats.norm.ppf(0.95)"
   ]
  },
  {
   "cell_type": "code",
   "execution_count": 68,
   "metadata": {},
   "outputs": [
    {
     "data": {
      "text/plain": [
       "1.959963984540054"
      ]
     },
     "execution_count": 68,
     "metadata": {},
     "output_type": "execute_result"
    }
   ],
   "source": [
    "spstats.norm.ppf(0.975)"
   ]
  },
  {
   "cell_type": "code",
   "execution_count": 70,
   "metadata": {},
   "outputs": [
    {
     "data": {
      "text/plain": [
       "2.919985580355516"
      ]
     },
     "execution_count": 70,
     "metadata": {},
     "output_type": "execute_result"
    }
   ],
   "source": [
    "#t- critical value\n",
    "#ppf(1-alpha,dof)\n",
    "abs(spstats.t.ppf(0.95,2))"
   ]
  },
  {
   "cell_type": "code",
   "execution_count": 71,
   "metadata": {},
   "outputs": [
    {
     "data": {
      "text/plain": [
       "3.492828476735632"
      ]
     },
     "execution_count": 71,
     "metadata": {},
     "output_type": "execute_result"
    }
   ],
   "source": [
    "#ANOVA critical value\n",
    "#f.ppf(1-alpha,dof_numerator,dof_denominator)\n",
    "spstats.f.ppf(0.95,2,20)"
   ]
  },
  {
   "cell_type": "code",
   "execution_count": 72,
   "metadata": {},
   "outputs": [
    {
     "data": {
      "text/plain": [
       "3.841458820694124"
      ]
     },
     "execution_count": 72,
     "metadata": {},
     "output_type": "execute_result"
    }
   ],
   "source": [
    "#CHI-SQ critical value\n",
    "#chi2.ppf(1-alpha,dof)\n",
    "spstats.chi2.ppf(0.95,1)"
   ]
  },
  {
   "cell_type": "code",
   "execution_count": 73,
   "metadata": {},
   "outputs": [
    {
     "data": {
      "text/plain": [
       "24"
      ]
     },
     "execution_count": 73,
     "metadata": {},
     "output_type": "execute_result"
    }
   ],
   "source": [
    "#1 sample t-test\n",
    "#problem statement :-  average weight of a given sample is 30 kgs \n",
    "wt =np.random.randint(16,75,24)\n",
    "len(wt)"
   ]
  },
  {
   "cell_type": "code",
   "execution_count": 79,
   "metadata": {},
   "outputs": [],
   "source": [
    "'''\n",
    "H0 : average wt is 30\n",
    "H1: average wt is not 30\n",
    "this is a 2-tail test \n",
    "'''\n",
    "tail=2\n",
    "alpha = 0.05\n",
    "dof = len(wt)-1 \n"
   ]
  },
  {
   "cell_type": "code",
   "execution_count": null,
   "metadata": {},
   "outputs": [],
   "source": [
    "#if it is a 2-tail test , then alpha has to be divided by 2\n",
    "if tail ==2:\n",
    "    alpha/=2"
   ]
  },
  {
   "cell_type": "code",
   "execution_count": 75,
   "metadata": {},
   "outputs": [
    {
     "name": "stdout",
     "output_type": "stream",
     "text": [
      "Ttest_1sampResult(statistic=3.6028792882610916, pvalue=0.0014994336202727684)\n"
     ]
    }
   ],
   "source": [
    "# 1-sample z-test\n",
    "tt = spstats.ttest_1samp(wt,30)\n",
    "print(tt)"
   ]
  },
  {
   "cell_type": "code",
   "execution_count": 78,
   "metadata": {},
   "outputs": [],
   "source": [
    "tcalc = tt[0]\n",
    "pvalue =tt[1]\n"
   ]
  },
  {
   "cell_type": "code",
   "execution_count": 82,
   "metadata": {},
   "outputs": [
    {
     "data": {
      "text/plain": [
       "3.6028792882610916"
      ]
     },
     "execution_count": 82,
     "metadata": {},
     "output_type": "execute_result"
    }
   ],
   "source": [
    "tcalc"
   ]
  },
  {
   "cell_type": "code",
   "execution_count": 83,
   "metadata": {},
   "outputs": [
    {
     "data": {
      "text/plain": [
       "0.0014994336202727684"
      ]
     },
     "execution_count": 83,
     "metadata": {},
     "output_type": "execute_result"
    }
   ],
   "source": [
    "pvalue"
   ]
  },
  {
   "cell_type": "code",
   "execution_count": 81,
   "metadata": {},
   "outputs": [
    {
     "data": {
      "text/plain": [
       "1.7138715277470473"
      ]
     },
     "execution_count": 81,
     "metadata": {},
     "output_type": "execute_result"
    }
   ],
   "source": [
    "tcritical = spstats.t.ppf(1-alpha,dof)\n",
    "tcritical"
   ]
  },
  {
   "cell_type": "code",
   "execution_count": 85,
   "metadata": {},
   "outputs": [
    {
     "name": "stdout",
     "output_type": "stream",
     "text": [
      "Reject H0\n"
     ]
    }
   ],
   "source": [
    "#conclusion \n",
    "#tcritical and tcalc\n",
    "if tcalc>tcritical:\n",
    "    print('Reject H0')\n",
    "else:\n",
    "    print('Fail to reject H0')\n"
   ]
  },
  {
   "cell_type": "code",
   "execution_count": 86,
   "metadata": {},
   "outputs": [
    {
     "name": "stdout",
     "output_type": "stream",
     "text": [
      "Reject H0\n"
     ]
    }
   ],
   "source": [
    "#alpha and pvalue\n",
    "if  pvalue<alpha:\n",
    "  print('Reject H0')\n",
    "else:\n",
    "    print('Fail to reject H0')"
   ]
  },
  {
   "cell_type": "code",
   "execution_count": 88,
   "metadata": {},
   "outputs": [
    {
     "data": {
      "text/plain": [
       "array([17.9, 27. ,  7.3,  9.2,  7.8, 13.3, 27.9, 11.9,  6.9, 19.8, 24.1,\n",
       "       23.5,  6.8, 19.4, 18. , 16.1, 20.4,  8.4, 14.2, 23. , 11.2, 13.4,\n",
       "       17.3, 11. ,  7.1, 23.2,  8.8, 19.6,  6.9, 23.1, 19.9, 15.1, 11.6,\n",
       "       10.4, 18.2, 14.7, 17.6, 24.1, 24.6,  7.9, 26.1, 24.2, 16.7, 21. ,\n",
       "       23.6,  6.2, 24.9, 24.4,  5.3, 10.2,  8.2, 27.2, 24.9, 18.1, 17.2,\n",
       "       17.4, 21.9, 14.6, 23.4, 25.4, 26.3, 14.5, 27. , 19.5,  9.8, 18.3,\n",
       "        5.5, 26.4, 24.8, 17.4, 21. , 17.4, 23.7, 18.4, 24.6])"
      ]
     },
     "execution_count": 88,
     "metadata": {},
     "output_type": "execute_result"
    }
   ],
   "source": [
    "# 1-sample z-test\n",
    "#the average mileage of a vehicle is more than 15\n",
    "mileage = np.round(np.random.uniform(5,28,75),1)\n",
    "mileage"
   ]
  },
  {
   "cell_type": "code",
   "execution_count": 89,
   "metadata": {},
   "outputs": [],
   "source": [
    "'''\n",
    "Claim :mean>15\n",
    "opp  : mean<=15\n",
    "'''\n",
    "\n",
    "'''\n",
    "HO : mean =15\n",
    "H1 : mean >15\n",
    "'''\n",
    "tail = 1\n",
    "alpha= 0.05\n"
   ]
  },
  {
   "cell_type": "code",
   "execution_count": 91,
   "metadata": {},
   "outputs": [],
   "source": [
    "if tail == 2:\n",
    "    alpha/=2"
   ]
  },
  {
   "cell_type": "code",
   "execution_count": 92,
   "metadata": {},
   "outputs": [
    {
     "data": {
      "text/plain": [
       "Ttest_1sampResult(statistic=3.0973552920383405, pvalue=0.0027586091729412403)"
      ]
     },
     "execution_count": 92,
     "metadata": {},
     "output_type": "execute_result"
    }
   ],
   "source": [
    "zt = spstats.ttest_1samp(mileage,15)\n",
    "zt"
   ]
  },
  {
   "cell_type": "code",
   "execution_count": 93,
   "metadata": {},
   "outputs": [
    {
     "data": {
      "text/plain": [
       "3.0973552920383405"
      ]
     },
     "execution_count": 93,
     "metadata": {},
     "output_type": "execute_result"
    }
   ],
   "source": [
    "zcalc = zt[0]\n",
    "zcalc"
   ]
  },
  {
   "cell_type": "code",
   "execution_count": 94,
   "metadata": {},
   "outputs": [
    {
     "data": {
      "text/plain": [
       "0.0027586091729412403"
      ]
     },
     "execution_count": 94,
     "metadata": {},
     "output_type": "execute_result"
    }
   ],
   "source": [
    "pvalue = zt[1]\n",
    "pvalue"
   ]
  },
  {
   "cell_type": "code",
   "execution_count": 95,
   "metadata": {},
   "outputs": [
    {
     "data": {
      "text/plain": [
       "1.6448536269514722"
      ]
     },
     "execution_count": 95,
     "metadata": {},
     "output_type": "execute_result"
    }
   ],
   "source": [
    "#z-critical \n",
    "zcritical = spstats.norm.ppf(1-alpha)\n",
    "zcritical"
   ]
  },
  {
   "cell_type": "code",
   "execution_count": 96,
   "metadata": {},
   "outputs": [
    {
     "name": "stdout",
     "output_type": "stream",
     "text": [
      "Reject H0\n"
     ]
    }
   ],
   "source": [
    "#conclusion \n",
    "if zcalc>zcritical:\n",
    "    print('Reject H0')\n",
    "else:\n",
    "    print('Fail to reject H0')\n",
    "\n",
    "#same as above"
   ]
  },
  {
   "cell_type": "code",
   "execution_count": null,
   "metadata": {},
   "outputs": [],
   "source": [
    "#ANOVA test\n",
    "#check if the means of n-samples have same mean\n",
    "'''\n",
    "H0: mu1=mu2=mu3=...mun\n",
    "H1: mu1<>mu2<>mu3...\n",
    "'''\n",
    "\n",
    "#application in ML is feature select , in linear regression (x feature category , y variable is cont)\n",
    "\n"
   ]
  },
  {
   "cell_type": "code",
   "execution_count": 97,
   "metadata": {},
   "outputs": [],
   "source": [
    "#check if the average petrol prices are similar across different cities\n",
    "delhi =np.round( np.random.uniform(90,100,10),1)\n",
    "kolkata = np.round( np.random.uniform(85,96,10),1)\n",
    "chennai =np.round( np.random.uniform(92,99,10),1)\n",
    "bang = np.round( np.random.uniform(95,101,10),1)\n",
    "mum = np.round( np.random.uniform(93,100,10),1)"
   ]
  },
  {
   "cell_type": "code",
   "execution_count": 98,
   "metadata": {},
   "outputs": [
    {
     "data": {
      "text/plain": [
       "F_onewayResult(statistic=15.00357836747743, pvalue=7.259475602508958e-08)"
      ]
     },
     "execution_count": 98,
     "metadata": {},
     "output_type": "execute_result"
    }
   ],
   "source": [
    "fs = spstats.f_oneway(delhi,kolkata,chennai,bang,mum)\n",
    "fs"
   ]
  },
  {
   "cell_type": "code",
   "execution_count": null,
   "metadata": {},
   "outputs": [],
   "source": [
    "'''\n",
    "housetype    houseprice\n",
    "1-bhk \n",
    "    30\n",
    "       --\n",
    "       -- \n",
    "1.5-bhk \n",
    "      19\n",
    "        --\n",
    "        --\n",
    "2bhk  \n",
    "     50\n",
    "        --\n",
    "        --\n",
    "3bhk \n",
    "     45\n",
    "        --\n",
    "        --\n",
    "        '''"
   ]
  },
  {
   "cell_type": "code",
   "execution_count": 104,
   "metadata": {},
   "outputs": [],
   "source": [
    "#CHISQUARE test\n",
    "#chect if 2 categorical varaibale are indepedent\n",
    "'''\n",
    "\n",
    "'''\n",
    "\n",
    "#example of malaria \n",
    "import pandas as pd"
   ]
  },
  {
   "cell_type": "code",
   "execution_count": null,
   "metadata": {},
   "outputs": [],
   "source": []
  },
  {
   "cell_type": "code",
   "execution_count": 105,
   "metadata": {
    "collapsed": true
   },
   "outputs": [
    {
     "data": {
      "text/plain": [
       "['mumbai',\n",
       " 'mumbai',\n",
       " 'mumbai',\n",
       " 'mumbai',\n",
       " 'mumbai',\n",
       " 'mumbai',\n",
       " 'mumbai',\n",
       " 'mumbai',\n",
       " 'mumbai',\n",
       " 'mumbai',\n",
       " 'mumbai',\n",
       " 'mumbai',\n",
       " 'mumbai',\n",
       " 'mumbai',\n",
       " 'mumbai',\n",
       " 'mumbai',\n",
       " 'mumbai',\n",
       " 'mumbai',\n",
       " 'mumbai',\n",
       " 'mumbai',\n",
       " 'mumbai',\n",
       " 'mumbai',\n",
       " 'mumbai',\n",
       " 'mumbai',\n",
       " 'mumbai',\n",
       " 'mumbai',\n",
       " 'mumbai',\n",
       " 'mumbai',\n",
       " 'mumbai',\n",
       " 'mumbai',\n",
       " 'mumbai',\n",
       " 'mumbai',\n",
       " 'mumbai',\n",
       " 'mumbai',\n",
       " 'mumbai',\n",
       " 'mumbai',\n",
       " 'mumbai',\n",
       " 'mumbai',\n",
       " 'mumbai',\n",
       " 'mumbai',\n",
       " 'mumbai',\n",
       " 'mumbai',\n",
       " 'mumbai',\n",
       " 'mumbai',\n",
       " 'mumbai',\n",
       " 'mumbai',\n",
       " 'mumbai',\n",
       " 'mumbai',\n",
       " 'mumbai',\n",
       " 'mumbai',\n",
       " 'mumbai',\n",
       " 'mumbai',\n",
       " 'mumbai',\n",
       " 'mumbai',\n",
       " 'mumbai',\n",
       " 'mumbai',\n",
       " 'mumbai',\n",
       " 'mumbai',\n",
       " 'mumbai',\n",
       " 'mumbai',\n",
       " 'mumbai',\n",
       " 'mumbai',\n",
       " 'mumbai',\n",
       " 'mumbai',\n",
       " 'mumbai',\n",
       " 'mumbai',\n",
       " 'mumbai',\n",
       " 'mumbai',\n",
       " 'mumbai',\n",
       " 'mumbai',\n",
       " 'mumbai',\n",
       " 'mumbai',\n",
       " 'mumbai',\n",
       " 'mumbai',\n",
       " 'mumbai',\n",
       " 'mumbai',\n",
       " 'mumbai',\n",
       " 'mumbai',\n",
       " 'mumbai',\n",
       " 'mumbai',\n",
       " 'mumbai',\n",
       " 'mumbai',\n",
       " 'mumbai',\n",
       " 'mumbai',\n",
       " 'mumbai',\n",
       " 'mumbai',\n",
       " 'mumbai',\n",
       " 'mumbai',\n",
       " 'mumbai',\n",
       " 'mumbai',\n",
       " 'mumbai',\n",
       " 'mumbai',\n",
       " 'mumbai',\n",
       " 'mumbai',\n",
       " 'mumbai',\n",
       " 'mumbai',\n",
       " 'mumbai',\n",
       " 'mumbai',\n",
       " 'mumbai',\n",
       " 'mumbai',\n",
       " 'mumbai',\n",
       " 'mumbai',\n",
       " 'mumbai',\n",
       " 'mumbai',\n",
       " 'mumbai',\n",
       " 'mumbai',\n",
       " 'mumbai',\n",
       " 'mumbai',\n",
       " 'mumbai',\n",
       " 'mumbai',\n",
       " 'mumbai',\n",
       " 'mumbai',\n",
       " 'mumbai',\n",
       " 'mumbai',\n",
       " 'mumbai',\n",
       " 'mumbai',\n",
       " 'mumbai',\n",
       " 'mumbai',\n",
       " 'mumbai',\n",
       " 'mumbai',\n",
       " 'mumbai',\n",
       " 'mumbai',\n",
       " 'mumbai',\n",
       " 'mumbai',\n",
       " 'mumbai',\n",
       " 'mumbai',\n",
       " 'mumbai',\n",
       " 'mumbai',\n",
       " 'mumbai',\n",
       " 'mumbai',\n",
       " 'mumbai',\n",
       " 'mumbai',\n",
       " 'mumbai',\n",
       " 'mumbai',\n",
       " 'mumbai',\n",
       " 'mumbai',\n",
       " 'mumbai',\n",
       " 'mumbai',\n",
       " 'mumbai',\n",
       " 'mumbai',\n",
       " 'mumbai',\n",
       " 'mumbai',\n",
       " 'mumbai',\n",
       " 'mumbai',\n",
       " 'mumbai',\n",
       " 'mumbai',\n",
       " 'mumbai',\n",
       " 'mumbai',\n",
       " 'mumbai',\n",
       " 'mumbai',\n",
       " 'mumbai',\n",
       " 'mumbai',\n",
       " 'mumbai',\n",
       " 'mumbai',\n",
       " 'mumbai',\n",
       " 'mumbai',\n",
       " 'mumbai',\n",
       " 'mumbai',\n",
       " 'mumbai',\n",
       " 'mumbai',\n",
       " 'mumbai',\n",
       " 'mumbai',\n",
       " 'mumbai',\n",
       " 'mumbai',\n",
       " 'mumbai',\n",
       " 'mumbai',\n",
       " 'mumbai',\n",
       " 'mumbai',\n",
       " 'mumbai',\n",
       " 'mumbai',\n",
       " 'mumbai',\n",
       " 'mumbai',\n",
       " 'mumbai',\n",
       " 'mumbai',\n",
       " 'mumbai',\n",
       " 'mumbai',\n",
       " 'mumbai',\n",
       " 'mumbai',\n",
       " 'mumbai',\n",
       " 'mumbai',\n",
       " 'mumbai',\n",
       " 'mumbai',\n",
       " 'mumbai',\n",
       " 'mumbai',\n",
       " 'mumbai',\n",
       " 'mumbai',\n",
       " 'mumbai',\n",
       " 'mumbai',\n",
       " 'mumbai',\n",
       " 'mumbai',\n",
       " 'mumbai',\n",
       " 'mumbai',\n",
       " 'mumbai',\n",
       " 'mumbai',\n",
       " 'mumbai',\n",
       " 'mumbai',\n",
       " 'mumbai',\n",
       " 'mumbai',\n",
       " 'mumbai',\n",
       " 'mumbai',\n",
       " 'mumbai',\n",
       " 'mumbai',\n",
       " 'mumbai',\n",
       " 'mumbai',\n",
       " 'mumbai',\n",
       " 'mumbai',\n",
       " 'mumbai',\n",
       " 'mumbai',\n",
       " 'mumbai',\n",
       " 'mumbai',\n",
       " 'mumbai',\n",
       " 'mumbai',\n",
       " 'mumbai',\n",
       " 'mumbai',\n",
       " 'mumbai',\n",
       " 'mumbai',\n",
       " 'mumbai',\n",
       " 'mumbai',\n",
       " 'mumbai',\n",
       " 'mumbai',\n",
       " 'mumbai',\n",
       " 'mumbai',\n",
       " 'mumbai',\n",
       " 'mumbai',\n",
       " 'mumbai',\n",
       " 'mumbai',\n",
       " 'mumbai',\n",
       " 'mumbai',\n",
       " 'mumbai',\n",
       " 'mumbai',\n",
       " 'mumbai',\n",
       " 'mumbai',\n",
       " 'mumbai',\n",
       " 'mumbai',\n",
       " 'mumbai',\n",
       " 'mumbai',\n",
       " 'mumbai',\n",
       " 'mumbai',\n",
       " 'mumbai',\n",
       " 'mumbai',\n",
       " 'mumbai',\n",
       " 'mumbai',\n",
       " 'mumbai',\n",
       " 'mumbai',\n",
       " 'mumbai',\n",
       " 'mumbai',\n",
       " 'mumbai',\n",
       " 'mumbai',\n",
       " 'mumbai',\n",
       " 'mumbai',\n",
       " 'mumbai',\n",
       " 'mumbai',\n",
       " 'mumbai',\n",
       " 'mumbai',\n",
       " 'mumbai',\n",
       " 'mumbai',\n",
       " 'mumbai',\n",
       " 'mumbai',\n",
       " 'mumbai',\n",
       " 'mumbai',\n",
       " 'mumbai',\n",
       " 'mumbai',\n",
       " 'mumbai',\n",
       " 'mumbai',\n",
       " 'mumbai',\n",
       " 'mumbai',\n",
       " 'mumbai',\n",
       " 'mumbai',\n",
       " 'mumbai',\n",
       " 'mumbai',\n",
       " 'mumbai',\n",
       " 'mumbai',\n",
       " 'mumbai',\n",
       " 'mumbai',\n",
       " 'mumbai',\n",
       " 'mumbai',\n",
       " 'mumbai',\n",
       " 'mumbai',\n",
       " 'mumbai',\n",
       " 'mumbai',\n",
       " 'mumbai',\n",
       " 'mumbai',\n",
       " 'mumbai',\n",
       " 'mumbai',\n",
       " 'mumbai',\n",
       " 'mumbai',\n",
       " 'mumbai',\n",
       " 'mumbai',\n",
       " 'mumbai',\n",
       " 'mumbai',\n",
       " 'mumbai',\n",
       " 'mumbai',\n",
       " 'mumbai',\n",
       " 'mumbai',\n",
       " 'mumbai',\n",
       " 'mumbai',\n",
       " 'mumbai',\n",
       " 'mumbai',\n",
       " 'mumbai',\n",
       " 'mumbai',\n",
       " 'mumbai',\n",
       " 'mumbai',\n",
       " 'mumbai',\n",
       " 'mumbai',\n",
       " 'mumbai',\n",
       " 'mumbai',\n",
       " 'mumbai',\n",
       " 'mumbai',\n",
       " 'mumbai',\n",
       " 'mumbai',\n",
       " 'mumbai',\n",
       " 'mumbai',\n",
       " 'mumbai',\n",
       " 'mumbai',\n",
       " 'mumbai',\n",
       " 'mumbai',\n",
       " 'mumbai',\n",
       " 'mumbai',\n",
       " 'mumbai',\n",
       " 'mumbai',\n",
       " 'mumbai',\n",
       " 'mumbai',\n",
       " 'mumbai',\n",
       " 'mumbai',\n",
       " 'mumbai',\n",
       " 'mumbai',\n",
       " 'mumbai',\n",
       " 'mumbai',\n",
       " 'mumbai',\n",
       " 'mumbai',\n",
       " 'mumbai',\n",
       " 'mumbai',\n",
       " 'mumbai',\n",
       " 'mumbai',\n",
       " 'mumbai',\n",
       " 'mumbai',\n",
       " 'mumbai',\n",
       " 'mumbai',\n",
       " 'mumbai',\n",
       " 'mumbai',\n",
       " 'mumbai',\n",
       " 'mumbai',\n",
       " 'mumbai',\n",
       " 'mumbai',\n",
       " 'mumbai',\n",
       " 'mumbai',\n",
       " 'mumbai',\n",
       " 'mumbai',\n",
       " 'mumbai',\n",
       " 'mumbai',\n",
       " 'mumbai',\n",
       " 'mumbai',\n",
       " 'mumbai',\n",
       " 'mumbai',\n",
       " 'mumbai',\n",
       " 'mumbai',\n",
       " 'mumbai',\n",
       " 'mumbai',\n",
       " 'mumbai',\n",
       " 'mumbai',\n",
       " 'mumbai',\n",
       " 'mumbai',\n",
       " 'mumbai',\n",
       " 'mumbai',\n",
       " 'mumbai',\n",
       " 'mumbai',\n",
       " 'mumbai',\n",
       " 'mumbai',\n",
       " 'mumbai',\n",
       " 'mumbai',\n",
       " 'mumbai',\n",
       " 'mumbai',\n",
       " 'mumbai',\n",
       " 'mumbai',\n",
       " 'mumbai',\n",
       " 'mumbai',\n",
       " 'mumbai',\n",
       " 'mumbai',\n",
       " 'mumbai',\n",
       " 'mumbai',\n",
       " 'mumbai',\n",
       " 'mumbai',\n",
       " 'mumbai',\n",
       " 'mumbai',\n",
       " 'mumbai',\n",
       " 'mumbai',\n",
       " 'mumbai',\n",
       " 'mumbai',\n",
       " 'mumbai',\n",
       " 'mumbai',\n",
       " 'mumbai',\n",
       " 'mumbai',\n",
       " 'mumbai',\n",
       " 'mumbai',\n",
       " 'mumbai',\n",
       " 'mumbai',\n",
       " 'mumbai',\n",
       " 'mumbai',\n",
       " 'mumbai',\n",
       " 'mumbai',\n",
       " 'mumbai',\n",
       " 'mumbai',\n",
       " 'mumbai',\n",
       " 'mumbai',\n",
       " 'mumbai',\n",
       " 'mumbai',\n",
       " 'mumbai',\n",
       " 'mumbai',\n",
       " 'mumbai',\n",
       " 'mumbai',\n",
       " 'mumbai',\n",
       " 'mumbai',\n",
       " 'mumbai',\n",
       " 'mumbai',\n",
       " 'mumbai',\n",
       " 'mumbai',\n",
       " 'mumbai',\n",
       " 'mumbai',\n",
       " 'mumbai',\n",
       " 'mumbai',\n",
       " 'mumbai',\n",
       " 'mumbai',\n",
       " 'mumbai',\n",
       " 'mumbai',\n",
       " 'mumbai',\n",
       " 'mumbai',\n",
       " 'mumbai',\n",
       " 'mumbai',\n",
       " 'mumbai',\n",
       " 'mumbai',\n",
       " 'mumbai',\n",
       " 'mumbai',\n",
       " 'mumbai',\n",
       " 'mumbai',\n",
       " 'mumbai',\n",
       " 'mumbai',\n",
       " 'mumbai',\n",
       " 'mumbai',\n",
       " 'mumbai',\n",
       " 'mumbai',\n",
       " 'mumbai',\n",
       " 'mumbai',\n",
       " 'mumbai',\n",
       " 'mumbai',\n",
       " 'mumbai',\n",
       " 'mumbai',\n",
       " 'mumbai',\n",
       " 'mumbai',\n",
       " 'mumbai',\n",
       " 'mumbai',\n",
       " 'mumbai',\n",
       " 'mumbai',\n",
       " 'mumbai',\n",
       " 'mumbai',\n",
       " 'mumbai',\n",
       " 'mumbai',\n",
       " 'mumbai',\n",
       " 'mumbai',\n",
       " 'mumbai',\n",
       " 'mumbai',\n",
       " 'mumbai',\n",
       " 'mumbai',\n",
       " 'mumbai',\n",
       " 'mumbai',\n",
       " 'mumbai',\n",
       " 'mumbai',\n",
       " 'mumbai',\n",
       " 'mumbai',\n",
       " 'mumbai',\n",
       " 'mumbai',\n",
       " 'mumbai',\n",
       " 'mumbai',\n",
       " 'mumbai',\n",
       " 'mumbai',\n",
       " 'mumbai',\n",
       " 'mumbai',\n",
       " 'mumbai',\n",
       " 'mumbai',\n",
       " 'mumbai',\n",
       " 'mumbai',\n",
       " 'mumbai',\n",
       " 'mumbai',\n",
       " 'mumbai',\n",
       " 'mumbai',\n",
       " 'mumbai',\n",
       " 'mumbai',\n",
       " 'mumbai',\n",
       " 'mumbai',\n",
       " 'mumbai',\n",
       " 'mumbai',\n",
       " 'mumbai',\n",
       " 'mumbai',\n",
       " 'mumbai',\n",
       " 'mumbai',\n",
       " 'mumbai',\n",
       " 'mumbai',\n",
       " 'mumbai',\n",
       " 'mumbai',\n",
       " 'mumbai',\n",
       " 'mumbai',\n",
       " 'delhi',\n",
       " 'delhi',\n",
       " 'delhi',\n",
       " 'delhi',\n",
       " 'delhi',\n",
       " 'delhi',\n",
       " 'delhi',\n",
       " 'delhi',\n",
       " 'delhi',\n",
       " 'delhi',\n",
       " 'delhi',\n",
       " 'delhi',\n",
       " 'delhi',\n",
       " 'delhi',\n",
       " 'delhi',\n",
       " 'delhi',\n",
       " 'delhi',\n",
       " 'delhi',\n",
       " 'delhi',\n",
       " 'delhi',\n",
       " 'delhi',\n",
       " 'delhi',\n",
       " 'delhi',\n",
       " 'delhi',\n",
       " 'delhi',\n",
       " 'delhi',\n",
       " 'delhi',\n",
       " 'delhi',\n",
       " 'delhi',\n",
       " 'delhi',\n",
       " 'delhi',\n",
       " 'delhi',\n",
       " 'delhi',\n",
       " 'delhi',\n",
       " 'delhi',\n",
       " 'delhi',\n",
       " 'delhi',\n",
       " 'delhi',\n",
       " 'delhi',\n",
       " 'delhi',\n",
       " 'delhi',\n",
       " 'delhi',\n",
       " 'delhi',\n",
       " 'delhi',\n",
       " 'delhi',\n",
       " 'delhi',\n",
       " 'delhi',\n",
       " 'delhi',\n",
       " 'delhi',\n",
       " 'delhi',\n",
       " 'delhi',\n",
       " 'delhi',\n",
       " 'delhi',\n",
       " 'delhi',\n",
       " 'delhi',\n",
       " 'delhi',\n",
       " 'delhi',\n",
       " 'delhi',\n",
       " 'delhi',\n",
       " 'delhi',\n",
       " 'delhi',\n",
       " 'delhi',\n",
       " 'delhi',\n",
       " 'delhi',\n",
       " 'delhi',\n",
       " 'delhi',\n",
       " 'delhi',\n",
       " 'delhi',\n",
       " 'delhi',\n",
       " 'delhi',\n",
       " 'delhi',\n",
       " 'delhi',\n",
       " 'delhi',\n",
       " 'delhi',\n",
       " 'delhi',\n",
       " 'delhi',\n",
       " 'delhi',\n",
       " 'delhi',\n",
       " 'delhi',\n",
       " 'delhi',\n",
       " 'delhi',\n",
       " 'delhi',\n",
       " 'delhi',\n",
       " 'delhi',\n",
       " 'delhi',\n",
       " 'delhi',\n",
       " 'delhi',\n",
       " 'delhi',\n",
       " 'delhi',\n",
       " 'delhi',\n",
       " 'delhi',\n",
       " 'delhi',\n",
       " 'delhi',\n",
       " 'delhi',\n",
       " 'delhi',\n",
       " 'delhi',\n",
       " 'delhi',\n",
       " 'delhi',\n",
       " 'delhi',\n",
       " 'delhi',\n",
       " 'delhi',\n",
       " 'delhi',\n",
       " 'delhi',\n",
       " 'delhi',\n",
       " 'delhi',\n",
       " 'delhi',\n",
       " 'delhi',\n",
       " 'delhi',\n",
       " 'delhi',\n",
       " 'delhi',\n",
       " 'delhi',\n",
       " 'delhi',\n",
       " 'delhi',\n",
       " 'delhi',\n",
       " 'delhi',\n",
       " 'delhi',\n",
       " 'delhi',\n",
       " 'delhi',\n",
       " 'delhi',\n",
       " 'delhi',\n",
       " 'delhi',\n",
       " 'delhi',\n",
       " 'delhi',\n",
       " 'delhi',\n",
       " 'delhi',\n",
       " 'delhi',\n",
       " 'delhi',\n",
       " 'delhi',\n",
       " 'delhi',\n",
       " 'delhi',\n",
       " 'delhi',\n",
       " 'delhi',\n",
       " 'delhi',\n",
       " 'delhi',\n",
       " 'delhi',\n",
       " 'delhi',\n",
       " 'delhi',\n",
       " 'delhi',\n",
       " 'delhi',\n",
       " 'delhi',\n",
       " 'delhi',\n",
       " 'delhi',\n",
       " 'delhi',\n",
       " 'delhi',\n",
       " 'delhi',\n",
       " 'delhi',\n",
       " 'delhi',\n",
       " 'delhi',\n",
       " 'delhi',\n",
       " 'delhi',\n",
       " 'delhi',\n",
       " 'delhi',\n",
       " 'delhi',\n",
       " 'delhi',\n",
       " 'delhi',\n",
       " 'delhi',\n",
       " 'delhi',\n",
       " 'delhi',\n",
       " 'delhi',\n",
       " 'delhi',\n",
       " 'delhi',\n",
       " 'delhi',\n",
       " 'delhi',\n",
       " 'delhi',\n",
       " 'delhi',\n",
       " 'delhi',\n",
       " 'delhi',\n",
       " 'delhi',\n",
       " 'delhi',\n",
       " 'delhi',\n",
       " 'delhi',\n",
       " 'delhi',\n",
       " 'delhi',\n",
       " 'delhi',\n",
       " 'delhi',\n",
       " 'delhi',\n",
       " 'delhi',\n",
       " 'delhi',\n",
       " 'delhi',\n",
       " 'delhi',\n",
       " 'delhi',\n",
       " 'delhi',\n",
       " 'delhi',\n",
       " 'delhi',\n",
       " 'delhi',\n",
       " 'delhi',\n",
       " 'delhi',\n",
       " 'delhi',\n",
       " 'delhi',\n",
       " 'delhi',\n",
       " 'delhi',\n",
       " 'delhi',\n",
       " 'delhi',\n",
       " 'delhi',\n",
       " 'delhi',\n",
       " 'delhi',\n",
       " 'delhi',\n",
       " 'delhi',\n",
       " 'delhi',\n",
       " 'delhi',\n",
       " 'delhi',\n",
       " 'delhi',\n",
       " 'delhi',\n",
       " 'delhi',\n",
       " 'delhi',\n",
       " 'delhi',\n",
       " 'delhi',\n",
       " 'delhi',\n",
       " 'delhi',\n",
       " 'delhi',\n",
       " 'delhi',\n",
       " 'delhi',\n",
       " 'delhi',\n",
       " 'delhi',\n",
       " 'delhi',\n",
       " 'delhi',\n",
       " 'delhi',\n",
       " 'delhi',\n",
       " 'delhi',\n",
       " 'delhi',\n",
       " 'delhi',\n",
       " 'delhi',\n",
       " 'delhi',\n",
       " 'delhi',\n",
       " 'delhi',\n",
       " 'delhi',\n",
       " 'delhi',\n",
       " 'delhi',\n",
       " 'delhi',\n",
       " 'delhi',\n",
       " 'delhi',\n",
       " 'delhi',\n",
       " 'delhi',\n",
       " 'delhi',\n",
       " 'delhi',\n",
       " 'delhi',\n",
       " 'delhi',\n",
       " 'delhi',\n",
       " 'delhi',\n",
       " 'delhi',\n",
       " 'delhi',\n",
       " 'delhi',\n",
       " 'delhi',\n",
       " 'delhi',\n",
       " 'delhi',\n",
       " 'delhi',\n",
       " 'delhi',\n",
       " 'delhi',\n",
       " 'delhi',\n",
       " 'delhi',\n",
       " 'delhi',\n",
       " 'delhi',\n",
       " 'delhi',\n",
       " 'delhi',\n",
       " 'delhi',\n",
       " 'delhi',\n",
       " 'delhi',\n",
       " 'delhi',\n",
       " 'delhi',\n",
       " 'delhi',\n",
       " 'delhi',\n",
       " 'delhi',\n",
       " 'delhi',\n",
       " 'delhi',\n",
       " 'delhi',\n",
       " 'delhi',\n",
       " 'delhi',\n",
       " 'delhi',\n",
       " 'delhi',\n",
       " 'delhi',\n",
       " 'delhi',\n",
       " 'delhi',\n",
       " 'delhi',\n",
       " 'delhi',\n",
       " 'delhi',\n",
       " 'delhi',\n",
       " 'delhi',\n",
       " 'delhi',\n",
       " 'delhi',\n",
       " 'delhi',\n",
       " 'delhi',\n",
       " 'delhi',\n",
       " 'delhi',\n",
       " 'delhi',\n",
       " 'delhi',\n",
       " 'delhi',\n",
       " 'delhi',\n",
       " 'delhi',\n",
       " 'delhi',\n",
       " 'delhi',\n",
       " 'delhi',\n",
       " 'delhi',\n",
       " 'delhi',\n",
       " 'delhi',\n",
       " 'delhi',\n",
       " 'delhi',\n",
       " 'delhi',\n",
       " 'delhi',\n",
       " 'delhi',\n",
       " 'delhi',\n",
       " 'delhi',\n",
       " 'delhi',\n",
       " 'delhi',\n",
       " 'delhi',\n",
       " 'delhi',\n",
       " 'delhi',\n",
       " 'delhi',\n",
       " 'delhi',\n",
       " 'delhi',\n",
       " 'delhi',\n",
       " 'delhi',\n",
       " 'delhi',\n",
       " 'delhi',\n",
       " 'delhi',\n",
       " 'delhi',\n",
       " 'delhi',\n",
       " 'delhi',\n",
       " 'delhi',\n",
       " 'delhi',\n",
       " 'delhi',\n",
       " 'delhi',\n",
       " 'delhi',\n",
       " 'delhi',\n",
       " 'delhi',\n",
       " 'delhi',\n",
       " 'delhi',\n",
       " 'delhi',\n",
       " 'delhi',\n",
       " 'delhi',\n",
       " 'delhi',\n",
       " 'delhi',\n",
       " 'delhi',\n",
       " 'delhi',\n",
       " 'delhi',\n",
       " 'delhi',\n",
       " 'delhi',\n",
       " 'delhi',\n",
       " 'delhi',\n",
       " 'delhi',\n",
       " 'delhi',\n",
       " 'delhi',\n",
       " 'delhi',\n",
       " 'delhi',\n",
       " 'delhi',\n",
       " 'delhi',\n",
       " 'delhi',\n",
       " 'delhi',\n",
       " 'delhi',\n",
       " 'delhi',\n",
       " 'delhi',\n",
       " 'delhi',\n",
       " 'delhi',\n",
       " 'delhi',\n",
       " 'delhi',\n",
       " 'delhi',\n",
       " 'delhi',\n",
       " 'delhi',\n",
       " 'delhi',\n",
       " 'delhi',\n",
       " 'delhi',\n",
       " 'delhi',\n",
       " 'delhi',\n",
       " 'delhi',\n",
       " 'delhi',\n",
       " 'delhi',\n",
       " 'delhi',\n",
       " 'delhi',\n",
       " 'delhi',\n",
       " 'delhi',\n",
       " 'delhi',\n",
       " 'delhi',\n",
       " 'delhi',\n",
       " 'delhi',\n",
       " 'delhi',\n",
       " 'delhi',\n",
       " 'delhi',\n",
       " 'delhi',\n",
       " 'delhi',\n",
       " 'delhi',\n",
       " 'delhi',\n",
       " 'delhi',\n",
       " 'delhi',\n",
       " 'delhi',\n",
       " 'delhi',\n",
       " 'delhi',\n",
       " 'delhi',\n",
       " 'delhi',\n",
       " 'delhi',\n",
       " 'delhi',\n",
       " 'delhi',\n",
       " 'delhi',\n",
       " 'delhi',\n",
       " 'delhi',\n",
       " 'delhi',\n",
       " 'delhi',\n",
       " 'delhi',\n",
       " 'delhi',\n",
       " 'delhi',\n",
       " 'delhi',\n",
       " 'delhi']"
      ]
     },
     "execution_count": 105,
     "metadata": {},
     "output_type": "execute_result"
    }
   ],
   "source": [
    "city =['mumbai']*500 +['delhi']*400\n",
    "city"
   ]
  },
  {
   "cell_type": "code",
   "execution_count": 106,
   "metadata": {
    "collapsed": true
   },
   "outputs": [
    {
     "data": {
      "text/plain": [
       "['yes',\n",
       " 'yes',\n",
       " 'yes',\n",
       " 'yes',\n",
       " 'yes',\n",
       " 'yes',\n",
       " 'yes',\n",
       " 'yes',\n",
       " 'yes',\n",
       " 'yes',\n",
       " 'yes',\n",
       " 'yes',\n",
       " 'no',\n",
       " 'no',\n",
       " 'no',\n",
       " 'no',\n",
       " 'no',\n",
       " 'no',\n",
       " 'no',\n",
       " 'no',\n",
       " 'no',\n",
       " 'no',\n",
       " 'no',\n",
       " 'no',\n",
       " 'no',\n",
       " 'no',\n",
       " 'no',\n",
       " 'no',\n",
       " 'no',\n",
       " 'no',\n",
       " 'no',\n",
       " 'no',\n",
       " 'no',\n",
       " 'no',\n",
       " 'no',\n",
       " 'no',\n",
       " 'no',\n",
       " 'no',\n",
       " 'no',\n",
       " 'no',\n",
       " 'no',\n",
       " 'no',\n",
       " 'no',\n",
       " 'no',\n",
       " 'no',\n",
       " 'no',\n",
       " 'no',\n",
       " 'no',\n",
       " 'no',\n",
       " 'no',\n",
       " 'no',\n",
       " 'no',\n",
       " 'no',\n",
       " 'no',\n",
       " 'no',\n",
       " 'no',\n",
       " 'no',\n",
       " 'no',\n",
       " 'no',\n",
       " 'no',\n",
       " 'no',\n",
       " 'no',\n",
       " 'no',\n",
       " 'no',\n",
       " 'no',\n",
       " 'no',\n",
       " 'no',\n",
       " 'no',\n",
       " 'no',\n",
       " 'no',\n",
       " 'no',\n",
       " 'no',\n",
       " 'no',\n",
       " 'no',\n",
       " 'no',\n",
       " 'no',\n",
       " 'no',\n",
       " 'no',\n",
       " 'no',\n",
       " 'no',\n",
       " 'no',\n",
       " 'no',\n",
       " 'no',\n",
       " 'no',\n",
       " 'no',\n",
       " 'no',\n",
       " 'no',\n",
       " 'no',\n",
       " 'no',\n",
       " 'no',\n",
       " 'no',\n",
       " 'no',\n",
       " 'no',\n",
       " 'no',\n",
       " 'no',\n",
       " 'no',\n",
       " 'no',\n",
       " 'no',\n",
       " 'no',\n",
       " 'no',\n",
       " 'no',\n",
       " 'no',\n",
       " 'no',\n",
       " 'no',\n",
       " 'no',\n",
       " 'no',\n",
       " 'no',\n",
       " 'no',\n",
       " 'no',\n",
       " 'no',\n",
       " 'no',\n",
       " 'no',\n",
       " 'no',\n",
       " 'no',\n",
       " 'no',\n",
       " 'no',\n",
       " 'no',\n",
       " 'no',\n",
       " 'no',\n",
       " 'no',\n",
       " 'no',\n",
       " 'no',\n",
       " 'no',\n",
       " 'no',\n",
       " 'no',\n",
       " 'no',\n",
       " 'no',\n",
       " 'no',\n",
       " 'no',\n",
       " 'no',\n",
       " 'no',\n",
       " 'no',\n",
       " 'no',\n",
       " 'no',\n",
       " 'no',\n",
       " 'no',\n",
       " 'no',\n",
       " 'no',\n",
       " 'no',\n",
       " 'no',\n",
       " 'no',\n",
       " 'no',\n",
       " 'no',\n",
       " 'no',\n",
       " 'no',\n",
       " 'no',\n",
       " 'no',\n",
       " 'no',\n",
       " 'no',\n",
       " 'no',\n",
       " 'no',\n",
       " 'no',\n",
       " 'no',\n",
       " 'no',\n",
       " 'no',\n",
       " 'no',\n",
       " 'no',\n",
       " 'no',\n",
       " 'no',\n",
       " 'no',\n",
       " 'no',\n",
       " 'no',\n",
       " 'no',\n",
       " 'no',\n",
       " 'no',\n",
       " 'no',\n",
       " 'no',\n",
       " 'no',\n",
       " 'no',\n",
       " 'no',\n",
       " 'no',\n",
       " 'no',\n",
       " 'no',\n",
       " 'no',\n",
       " 'no',\n",
       " 'no',\n",
       " 'no',\n",
       " 'no',\n",
       " 'no',\n",
       " 'no',\n",
       " 'no',\n",
       " 'no',\n",
       " 'no',\n",
       " 'no',\n",
       " 'no',\n",
       " 'no',\n",
       " 'no',\n",
       " 'no',\n",
       " 'no',\n",
       " 'no',\n",
       " 'no',\n",
       " 'no',\n",
       " 'no',\n",
       " 'no',\n",
       " 'no',\n",
       " 'no',\n",
       " 'no',\n",
       " 'no',\n",
       " 'no',\n",
       " 'no',\n",
       " 'no',\n",
       " 'no',\n",
       " 'no',\n",
       " 'no',\n",
       " 'no',\n",
       " 'no',\n",
       " 'no',\n",
       " 'no',\n",
       " 'no',\n",
       " 'no',\n",
       " 'no',\n",
       " 'no',\n",
       " 'no',\n",
       " 'no',\n",
       " 'no',\n",
       " 'no',\n",
       " 'no',\n",
       " 'no',\n",
       " 'no',\n",
       " 'no',\n",
       " 'no',\n",
       " 'no',\n",
       " 'no',\n",
       " 'no',\n",
       " 'no',\n",
       " 'no',\n",
       " 'no',\n",
       " 'no',\n",
       " 'no',\n",
       " 'no',\n",
       " 'no',\n",
       " 'no',\n",
       " 'no',\n",
       " 'no',\n",
       " 'no',\n",
       " 'no',\n",
       " 'no',\n",
       " 'no',\n",
       " 'no',\n",
       " 'no',\n",
       " 'no',\n",
       " 'no',\n",
       " 'no',\n",
       " 'no',\n",
       " 'no',\n",
       " 'no',\n",
       " 'no',\n",
       " 'no',\n",
       " 'no',\n",
       " 'no',\n",
       " 'no',\n",
       " 'no',\n",
       " 'no',\n",
       " 'no',\n",
       " 'no',\n",
       " 'no',\n",
       " 'no',\n",
       " 'no',\n",
       " 'no',\n",
       " 'no',\n",
       " 'no',\n",
       " 'no',\n",
       " 'no',\n",
       " 'no',\n",
       " 'no',\n",
       " 'no',\n",
       " 'no',\n",
       " 'no',\n",
       " 'no',\n",
       " 'no',\n",
       " 'no',\n",
       " 'no',\n",
       " 'no',\n",
       " 'no',\n",
       " 'no',\n",
       " 'no',\n",
       " 'no',\n",
       " 'no',\n",
       " 'no',\n",
       " 'no',\n",
       " 'no',\n",
       " 'no',\n",
       " 'no',\n",
       " 'no',\n",
       " 'no',\n",
       " 'no',\n",
       " 'no',\n",
       " 'no',\n",
       " 'no',\n",
       " 'no',\n",
       " 'no',\n",
       " 'no',\n",
       " 'no',\n",
       " 'no',\n",
       " 'no',\n",
       " 'no',\n",
       " 'no',\n",
       " 'no',\n",
       " 'no',\n",
       " 'no',\n",
       " 'no',\n",
       " 'no',\n",
       " 'no',\n",
       " 'no',\n",
       " 'no',\n",
       " 'no',\n",
       " 'no',\n",
       " 'no',\n",
       " 'no',\n",
       " 'no',\n",
       " 'no',\n",
       " 'no',\n",
       " 'no',\n",
       " 'no',\n",
       " 'no',\n",
       " 'no',\n",
       " 'no',\n",
       " 'no',\n",
       " 'no',\n",
       " 'no',\n",
       " 'no',\n",
       " 'no',\n",
       " 'no',\n",
       " 'no',\n",
       " 'no',\n",
       " 'no',\n",
       " 'no',\n",
       " 'no',\n",
       " 'no',\n",
       " 'no',\n",
       " 'no',\n",
       " 'no',\n",
       " 'no',\n",
       " 'no',\n",
       " 'no',\n",
       " 'no',\n",
       " 'no',\n",
       " 'no',\n",
       " 'no',\n",
       " 'no',\n",
       " 'no',\n",
       " 'no',\n",
       " 'no',\n",
       " 'no',\n",
       " 'no',\n",
       " 'no',\n",
       " 'no',\n",
       " 'no',\n",
       " 'no',\n",
       " 'no',\n",
       " 'no',\n",
       " 'no',\n",
       " 'no',\n",
       " 'no',\n",
       " 'no',\n",
       " 'no',\n",
       " 'no',\n",
       " 'no',\n",
       " 'no',\n",
       " 'no',\n",
       " 'no',\n",
       " 'no',\n",
       " 'no',\n",
       " 'no',\n",
       " 'no',\n",
       " 'no',\n",
       " 'no',\n",
       " 'no',\n",
       " 'no',\n",
       " 'no',\n",
       " 'no',\n",
       " 'no',\n",
       " 'no',\n",
       " 'no',\n",
       " 'no',\n",
       " 'no',\n",
       " 'no',\n",
       " 'no',\n",
       " 'no',\n",
       " 'no',\n",
       " 'no',\n",
       " 'no',\n",
       " 'no',\n",
       " 'no',\n",
       " 'no',\n",
       " 'no',\n",
       " 'no',\n",
       " 'no',\n",
       " 'no',\n",
       " 'no',\n",
       " 'no',\n",
       " 'no',\n",
       " 'no',\n",
       " 'no',\n",
       " 'no',\n",
       " 'no',\n",
       " 'no',\n",
       " 'no',\n",
       " 'no',\n",
       " 'no',\n",
       " 'no',\n",
       " 'no',\n",
       " 'no',\n",
       " 'no',\n",
       " 'no',\n",
       " 'no',\n",
       " 'no',\n",
       " 'no',\n",
       " 'no',\n",
       " 'no',\n",
       " 'no',\n",
       " 'no',\n",
       " 'no',\n",
       " 'no',\n",
       " 'no',\n",
       " 'no',\n",
       " 'no',\n",
       " 'no',\n",
       " 'no',\n",
       " 'no',\n",
       " 'no',\n",
       " 'no',\n",
       " 'no',\n",
       " 'no',\n",
       " 'no',\n",
       " 'no',\n",
       " 'no',\n",
       " 'no',\n",
       " 'no',\n",
       " 'no',\n",
       " 'no',\n",
       " 'no',\n",
       " 'no',\n",
       " 'no',\n",
       " 'no',\n",
       " 'no',\n",
       " 'no',\n",
       " 'no',\n",
       " 'no',\n",
       " 'no',\n",
       " 'no',\n",
       " 'no',\n",
       " 'no',\n",
       " 'no',\n",
       " 'no',\n",
       " 'no',\n",
       " 'no',\n",
       " 'no',\n",
       " 'no',\n",
       " 'no',\n",
       " 'no',\n",
       " 'no',\n",
       " 'no',\n",
       " 'no',\n",
       " 'no',\n",
       " 'no',\n",
       " 'no',\n",
       " 'no',\n",
       " 'no',\n",
       " 'no',\n",
       " 'no',\n",
       " 'no',\n",
       " 'no',\n",
       " 'no',\n",
       " 'no',\n",
       " 'no',\n",
       " 'no',\n",
       " 'no',\n",
       " 'no',\n",
       " 'no',\n",
       " 'no',\n",
       " 'no',\n",
       " 'no',\n",
       " 'no',\n",
       " 'no',\n",
       " 'no',\n",
       " 'no',\n",
       " 'no',\n",
       " 'no',\n",
       " 'no',\n",
       " 'no',\n",
       " 'no',\n",
       " 'no',\n",
       " 'no',\n",
       " 'no',\n",
       " 'no',\n",
       " 'no',\n",
       " 'no',\n",
       " 'no',\n",
       " 'no',\n",
       " 'no',\n",
       " 'no',\n",
       " 'no',\n",
       " 'no',\n",
       " 'no',\n",
       " 'no',\n",
       " 'no',\n",
       " 'no',\n",
       " 'no',\n",
       " 'no',\n",
       " 'yes',\n",
       " 'yes',\n",
       " 'yes',\n",
       " 'yes',\n",
       " 'yes',\n",
       " 'yes',\n",
       " 'yes',\n",
       " 'no',\n",
       " 'no',\n",
       " 'no',\n",
       " 'no',\n",
       " 'no',\n",
       " 'no',\n",
       " 'no',\n",
       " 'no',\n",
       " 'no',\n",
       " 'no',\n",
       " 'no',\n",
       " 'no',\n",
       " 'no',\n",
       " 'no',\n",
       " 'no',\n",
       " 'no',\n",
       " 'no',\n",
       " 'no',\n",
       " 'no',\n",
       " 'no',\n",
       " 'no',\n",
       " 'no',\n",
       " 'no',\n",
       " 'no',\n",
       " 'no',\n",
       " 'no',\n",
       " 'no',\n",
       " 'no',\n",
       " 'no',\n",
       " 'no',\n",
       " 'no',\n",
       " 'no',\n",
       " 'no',\n",
       " 'no',\n",
       " 'no',\n",
       " 'no',\n",
       " 'no',\n",
       " 'no',\n",
       " 'no',\n",
       " 'no',\n",
       " 'no',\n",
       " 'no',\n",
       " 'no',\n",
       " 'no',\n",
       " 'no',\n",
       " 'no',\n",
       " 'no',\n",
       " 'no',\n",
       " 'no',\n",
       " 'no',\n",
       " 'no',\n",
       " 'no',\n",
       " 'no',\n",
       " 'no',\n",
       " 'no',\n",
       " 'no',\n",
       " 'no',\n",
       " 'no',\n",
       " 'no',\n",
       " 'no',\n",
       " 'no',\n",
       " 'no',\n",
       " 'no',\n",
       " 'no',\n",
       " 'no',\n",
       " 'no',\n",
       " 'no',\n",
       " 'no',\n",
       " 'no',\n",
       " 'no',\n",
       " 'no',\n",
       " 'no',\n",
       " 'no',\n",
       " 'no',\n",
       " 'no',\n",
       " 'no',\n",
       " 'no',\n",
       " 'no',\n",
       " 'no',\n",
       " 'no',\n",
       " 'no',\n",
       " 'no',\n",
       " 'no',\n",
       " 'no',\n",
       " 'no',\n",
       " 'no',\n",
       " 'no',\n",
       " 'no',\n",
       " 'no',\n",
       " 'no',\n",
       " 'no',\n",
       " 'no',\n",
       " 'no',\n",
       " 'no',\n",
       " 'no',\n",
       " 'no',\n",
       " 'no',\n",
       " 'no',\n",
       " 'no',\n",
       " 'no',\n",
       " 'no',\n",
       " 'no',\n",
       " 'no',\n",
       " 'no',\n",
       " 'no',\n",
       " 'no',\n",
       " 'no',\n",
       " 'no',\n",
       " 'no',\n",
       " 'no',\n",
       " 'no',\n",
       " 'no',\n",
       " 'no',\n",
       " 'no',\n",
       " 'no',\n",
       " 'no',\n",
       " 'no',\n",
       " 'no',\n",
       " 'no',\n",
       " 'no',\n",
       " 'no',\n",
       " 'no',\n",
       " 'no',\n",
       " 'no',\n",
       " 'no',\n",
       " 'no',\n",
       " 'no',\n",
       " 'no',\n",
       " 'no',\n",
       " 'no',\n",
       " 'no',\n",
       " 'no',\n",
       " 'no',\n",
       " 'no',\n",
       " 'no',\n",
       " 'no',\n",
       " 'no',\n",
       " 'no',\n",
       " 'no',\n",
       " 'no',\n",
       " 'no',\n",
       " 'no',\n",
       " 'no',\n",
       " 'no',\n",
       " 'no',\n",
       " 'no',\n",
       " 'no',\n",
       " 'no',\n",
       " 'no',\n",
       " 'no',\n",
       " 'no',\n",
       " 'no',\n",
       " 'no',\n",
       " 'no',\n",
       " 'no',\n",
       " 'no',\n",
       " 'no',\n",
       " 'no',\n",
       " 'no',\n",
       " 'no',\n",
       " 'no',\n",
       " 'no',\n",
       " 'no',\n",
       " 'no',\n",
       " 'no',\n",
       " 'no',\n",
       " 'no',\n",
       " 'no',\n",
       " 'no',\n",
       " 'no',\n",
       " 'no',\n",
       " 'no',\n",
       " 'no',\n",
       " 'no',\n",
       " 'no',\n",
       " 'no',\n",
       " 'no',\n",
       " 'no',\n",
       " 'no',\n",
       " 'no',\n",
       " 'no',\n",
       " 'no',\n",
       " 'no',\n",
       " 'no',\n",
       " 'no',\n",
       " 'no',\n",
       " 'no',\n",
       " 'no',\n",
       " 'no',\n",
       " 'no',\n",
       " 'no',\n",
       " 'no',\n",
       " 'no',\n",
       " 'no',\n",
       " 'no',\n",
       " 'no',\n",
       " 'no',\n",
       " 'no',\n",
       " 'no',\n",
       " 'no',\n",
       " 'no',\n",
       " 'no',\n",
       " 'no',\n",
       " 'no',\n",
       " 'no',\n",
       " 'no',\n",
       " 'no',\n",
       " 'no',\n",
       " 'no',\n",
       " 'no',\n",
       " 'no',\n",
       " 'no',\n",
       " 'no',\n",
       " 'no',\n",
       " 'no',\n",
       " 'no',\n",
       " 'no',\n",
       " 'no',\n",
       " 'no',\n",
       " 'no',\n",
       " 'no',\n",
       " 'no',\n",
       " 'no',\n",
       " 'no',\n",
       " 'no',\n",
       " 'no',\n",
       " 'no',\n",
       " 'no',\n",
       " 'no',\n",
       " 'no',\n",
       " 'no',\n",
       " 'no',\n",
       " 'no',\n",
       " 'no',\n",
       " 'no',\n",
       " 'no',\n",
       " 'no',\n",
       " 'no',\n",
       " 'no',\n",
       " 'no',\n",
       " 'no',\n",
       " 'no',\n",
       " 'no',\n",
       " 'no',\n",
       " 'no',\n",
       " 'no',\n",
       " 'no',\n",
       " 'no',\n",
       " 'no',\n",
       " 'no',\n",
       " 'no',\n",
       " 'no',\n",
       " 'no',\n",
       " 'no',\n",
       " 'no',\n",
       " 'no',\n",
       " 'no',\n",
       " 'no',\n",
       " 'no',\n",
       " 'no',\n",
       " 'no',\n",
       " 'no',\n",
       " 'no',\n",
       " 'no',\n",
       " 'no',\n",
       " 'no',\n",
       " 'no',\n",
       " 'no',\n",
       " 'no',\n",
       " 'no',\n",
       " 'no',\n",
       " 'no',\n",
       " 'no',\n",
       " 'no',\n",
       " 'no',\n",
       " 'no',\n",
       " 'no',\n",
       " 'no',\n",
       " 'no',\n",
       " 'no',\n",
       " 'no',\n",
       " 'no',\n",
       " 'no',\n",
       " 'no',\n",
       " 'no',\n",
       " 'no',\n",
       " 'no',\n",
       " 'no',\n",
       " 'no',\n",
       " 'no',\n",
       " 'no',\n",
       " 'no',\n",
       " 'no',\n",
       " 'no',\n",
       " 'no',\n",
       " 'no',\n",
       " 'no',\n",
       " 'no',\n",
       " 'no',\n",
       " 'no',\n",
       " 'no',\n",
       " 'no',\n",
       " 'no',\n",
       " 'no',\n",
       " 'no',\n",
       " 'no',\n",
       " 'no',\n",
       " 'no',\n",
       " 'no',\n",
       " 'no',\n",
       " 'no',\n",
       " 'no',\n",
       " 'no',\n",
       " 'no',\n",
       " 'no',\n",
       " 'no',\n",
       " 'no',\n",
       " 'no',\n",
       " 'no',\n",
       " 'no',\n",
       " 'no',\n",
       " 'no',\n",
       " 'no',\n",
       " 'no',\n",
       " 'no',\n",
       " 'no',\n",
       " 'no',\n",
       " 'no',\n",
       " 'no',\n",
       " 'no',\n",
       " 'no',\n",
       " 'no',\n",
       " 'no',\n",
       " 'no',\n",
       " 'no',\n",
       " 'no',\n",
       " 'no',\n",
       " 'no',\n",
       " 'no',\n",
       " 'no',\n",
       " 'no',\n",
       " 'no',\n",
       " 'no',\n",
       " 'no',\n",
       " 'no',\n",
       " 'no',\n",
       " 'no',\n",
       " 'no',\n",
       " 'no',\n",
       " 'no',\n",
       " 'no',\n",
       " 'no',\n",
       " 'no',\n",
       " 'no',\n",
       " 'no',\n",
       " 'no',\n",
       " 'no',\n",
       " 'no',\n",
       " 'no',\n",
       " 'no',\n",
       " 'no',\n",
       " 'no',\n",
       " 'no',\n",
       " 'no',\n",
       " 'no',\n",
       " 'no',\n",
       " 'no',\n",
       " 'no',\n",
       " 'no',\n",
       " 'no',\n",
       " 'no',\n",
       " 'no',\n",
       " 'no',\n",
       " 'no',\n",
       " 'no',\n",
       " 'no',\n",
       " 'no',\n",
       " 'no',\n",
       " 'no',\n",
       " 'no',\n",
       " 'no',\n",
       " 'no',\n",
       " 'no',\n",
       " 'no',\n",
       " 'no',\n",
       " 'no',\n",
       " 'no',\n",
       " 'no',\n",
       " 'no',\n",
       " 'no',\n",
       " 'no',\n",
       " 'no',\n",
       " 'no']"
      ]
     },
     "execution_count": 106,
     "metadata": {},
     "output_type": "execute_result"
    }
   ],
   "source": [
    "cases = ['yes']*12 +['no']*488 +['yes']*7 +['no']*393\n",
    "cases"
   ]
  },
  {
   "cell_type": "code",
   "execution_count": 112,
   "metadata": {},
   "outputs": [
    {
     "data": {
      "text/html": [
       "<div>\n",
       "<style scoped>\n",
       "    .dataframe tbody tr th:only-of-type {\n",
       "        vertical-align: middle;\n",
       "    }\n",
       "\n",
       "    .dataframe tbody tr th {\n",
       "        vertical-align: top;\n",
       "    }\n",
       "\n",
       "    .dataframe thead th {\n",
       "        text-align: right;\n",
       "    }\n",
       "</style>\n",
       "<table border=\"1\" class=\"dataframe\">\n",
       "  <thead>\n",
       "    <tr style=\"text-align: right;\">\n",
       "      <th></th>\n",
       "      <th>city</th>\n",
       "      <th>malaria</th>\n",
       "    </tr>\n",
       "  </thead>\n",
       "  <tbody>\n",
       "    <tr>\n",
       "      <th>0</th>\n",
       "      <td>mumbai</td>\n",
       "      <td>yes</td>\n",
       "    </tr>\n",
       "    <tr>\n",
       "      <th>1</th>\n",
       "      <td>mumbai</td>\n",
       "      <td>yes</td>\n",
       "    </tr>\n",
       "    <tr>\n",
       "      <th>2</th>\n",
       "      <td>mumbai</td>\n",
       "      <td>yes</td>\n",
       "    </tr>\n",
       "    <tr>\n",
       "      <th>3</th>\n",
       "      <td>mumbai</td>\n",
       "      <td>yes</td>\n",
       "    </tr>\n",
       "    <tr>\n",
       "      <th>4</th>\n",
       "      <td>mumbai</td>\n",
       "      <td>yes</td>\n",
       "    </tr>\n",
       "    <tr>\n",
       "      <th>...</th>\n",
       "      <td>...</td>\n",
       "      <td>...</td>\n",
       "    </tr>\n",
       "    <tr>\n",
       "      <th>895</th>\n",
       "      <td>delhi</td>\n",
       "      <td>no</td>\n",
       "    </tr>\n",
       "    <tr>\n",
       "      <th>896</th>\n",
       "      <td>delhi</td>\n",
       "      <td>no</td>\n",
       "    </tr>\n",
       "    <tr>\n",
       "      <th>897</th>\n",
       "      <td>delhi</td>\n",
       "      <td>no</td>\n",
       "    </tr>\n",
       "    <tr>\n",
       "      <th>898</th>\n",
       "      <td>delhi</td>\n",
       "      <td>no</td>\n",
       "    </tr>\n",
       "    <tr>\n",
       "      <th>899</th>\n",
       "      <td>delhi</td>\n",
       "      <td>no</td>\n",
       "    </tr>\n",
       "  </tbody>\n",
       "</table>\n",
       "<p>900 rows × 2 columns</p>\n",
       "</div>"
      ],
      "text/plain": [
       "       city malaria\n",
       "0    mumbai     yes\n",
       "1    mumbai     yes\n",
       "2    mumbai     yes\n",
       "3    mumbai     yes\n",
       "4    mumbai     yes\n",
       "..      ...     ...\n",
       "895   delhi      no\n",
       "896   delhi      no\n",
       "897   delhi      no\n",
       "898   delhi      no\n",
       "899   delhi      no\n",
       "\n",
       "[900 rows x 2 columns]"
      ]
     },
     "execution_count": 112,
     "metadata": {},
     "output_type": "execute_result"
    }
   ],
   "source": [
    "data = pd.DataFrame({'city':city,'malaria':cases})\n",
    "data"
   ]
  },
  {
   "cell_type": "code",
   "execution_count": 113,
   "metadata": {},
   "outputs": [
    {
     "data": {
      "text/html": [
       "<div>\n",
       "<style scoped>\n",
       "    .dataframe tbody tr th:only-of-type {\n",
       "        vertical-align: middle;\n",
       "    }\n",
       "\n",
       "    .dataframe tbody tr th {\n",
       "        vertical-align: top;\n",
       "    }\n",
       "\n",
       "    .dataframe thead th {\n",
       "        text-align: right;\n",
       "    }\n",
       "</style>\n",
       "<table border=\"1\" class=\"dataframe\">\n",
       "  <thead>\n",
       "    <tr style=\"text-align: right;\">\n",
       "      <th>malaria</th>\n",
       "      <th>no</th>\n",
       "      <th>yes</th>\n",
       "    </tr>\n",
       "    <tr>\n",
       "      <th>city</th>\n",
       "      <th></th>\n",
       "      <th></th>\n",
       "    </tr>\n",
       "  </thead>\n",
       "  <tbody>\n",
       "    <tr>\n",
       "      <th>delhi</th>\n",
       "      <td>393</td>\n",
       "      <td>7</td>\n",
       "    </tr>\n",
       "    <tr>\n",
       "      <th>mumbai</th>\n",
       "      <td>488</td>\n",
       "      <td>12</td>\n",
       "    </tr>\n",
       "  </tbody>\n",
       "</table>\n",
       "</div>"
      ],
      "text/plain": [
       "malaria   no  yes\n",
       "city             \n",
       "delhi    393    7\n",
       "mumbai   488   12"
      ]
     },
     "execution_count": 113,
     "metadata": {},
     "output_type": "execute_result"
    }
   ],
   "source": [
    "#convert the dataset to cross tab\n",
    "ct = pd.crosstab(data.city,data.malaria)   #crosstab -> count\n",
    "ct"
   ]
  },
  {
   "cell_type": "code",
   "execution_count": 114,
   "metadata": {},
   "outputs": [
    {
     "data": {
      "text/plain": [
       "(0.19423203297688052,\n",
       " 0.6594174287603682,\n",
       " 1,\n",
       " array([[391.55555556,   8.44444444],\n",
       "        [489.44444444,  10.55555556]]))"
      ]
     },
     "execution_count": 114,
     "metadata": {},
     "output_type": "execute_result"
    }
   ],
   "source": [
    "#chisquare test\n",
    "spstats.chi2_contingency(ct)"
   ]
  },
  {
   "cell_type": "code",
   "execution_count": 116,
   "metadata": {},
   "outputs": [],
   "source": [
    "#chisquare test\n",
    "chisq = spstats.chi2_contingency(ct)"
   ]
  },
  {
   "cell_type": "code",
   "execution_count": 117,
   "metadata": {},
   "outputs": [],
   "source": [
    "#return values \n",
    "pval = chisq[0]\n",
    "chicalc = chisq[1]\n",
    "dof = chisq[2]"
   ]
  },
  {
   "cell_type": "code",
   "execution_count": 118,
   "metadata": {},
   "outputs": [
    {
     "data": {
      "text/plain": [
       "0.19423203297688052"
      ]
     },
     "execution_count": 118,
     "metadata": {},
     "output_type": "execute_result"
    }
   ],
   "source": [
    "pval"
   ]
  },
  {
   "cell_type": "code",
   "execution_count": 119,
   "metadata": {},
   "outputs": [
    {
     "data": {
      "text/plain": [
       "0.6594174287603682"
      ]
     },
     "execution_count": 119,
     "metadata": {},
     "output_type": "execute_result"
    }
   ],
   "source": [
    "chicalc"
   ]
  },
  {
   "cell_type": "code",
   "execution_count": 120,
   "metadata": {},
   "outputs": [
    {
     "data": {
      "text/plain": [
       "1"
      ]
     },
     "execution_count": 120,
     "metadata": {},
     "output_type": "execute_result"
    }
   ],
   "source": [
    "dof"
   ]
  },
  {
   "cell_type": "code",
   "execution_count": null,
   "metadata": {},
   "outputs": [],
   "source": [
    "#conclusion"
   ]
  },
  {
   "cell_type": "code",
   "execution_count": null,
   "metadata": {},
   "outputs": [],
   "source": []
  },
  {
   "cell_type": "code",
   "execution_count": null,
   "metadata": {},
   "outputs": [],
   "source": []
  },
  {
   "cell_type": "code",
   "execution_count": null,
   "metadata": {},
   "outputs": [],
   "source": []
  },
  {
   "cell_type": "code",
   "execution_count": null,
   "metadata": {},
   "outputs": [],
   "source": []
  },
  {
   "cell_type": "code",
   "execution_count": null,
   "metadata": {},
   "outputs": [],
   "source": []
  },
  {
   "cell_type": "code",
   "execution_count": null,
   "metadata": {},
   "outputs": [],
   "source": []
  }
 ],
 "metadata": {
  "kernelspec": {
   "display_name": "Python 3",
   "language": "python",
   "name": "python3"
  },
  "language_info": {
   "codemirror_mode": {
    "name": "ipython",
    "version": 3
   },
   "file_extension": ".py",
   "mimetype": "text/x-python",
   "name": "python",
   "nbconvert_exporter": "python",
   "pygments_lexer": "ipython3",
   "version": "3.7.6"
  }
 },
 "nbformat": 4,
 "nbformat_minor": 4
}
